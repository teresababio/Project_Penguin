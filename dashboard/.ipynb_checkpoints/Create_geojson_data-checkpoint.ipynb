{
 "cells": [
  {
   "cell_type": "markdown",
   "id": "07665366",
   "metadata": {},
   "source": [
    "# Coordenadas de cada una de las islas"
   ]
  },
  {
   "cell_type": "markdown",
   "id": "acd84b91",
   "metadata": {},
   "source": [
    "En este jupyter se crea una variable location que contiene las coordenadas de cada una de las islas"
   ]
  },
  {
   "cell_type": "code",
   "execution_count": 1,
   "id": "e4cf9cf9",
   "metadata": {},
   "outputs": [
    {
     "data": {
      "text/plain": [
       "True"
      ]
     },
     "execution_count": 1,
     "metadata": {},
     "output_type": "execute_result"
    }
   ],
   "source": [
    "from pymongo import MongoClient\n",
    "import os\n",
    "from dotenv import load_dotenv\n",
    "load_dotenv()"
   ]
  },
  {
   "cell_type": "code",
   "execution_count": 18,
   "id": "97103f29",
   "metadata": {},
   "outputs": [],
   "source": [
    "client = MongoClient(os.getenv(\"url\"))\n",
    "db = client.get_database(\"penguin_data\")"
   ]
  },
  {
   "cell_type": "code",
   "execution_count": 19,
   "id": "3bab8c9b",
   "metadata": {},
   "outputs": [],
   "source": [
    "res = list(db[\"penguin_data\"].find({}, {\"_id\":1, \"Island\": 1}))"
   ]
  },
  {
   "cell_type": "code",
   "execution_count": 11,
   "id": "91c698d0",
   "metadata": {},
   "outputs": [
    {
     "data": {
      "text/plain": [
       "['Biscoe', 'Dream', 'Torgersen']"
      ]
     },
     "execution_count": 11,
     "metadata": {},
     "output_type": "execute_result"
    }
   ],
   "source": [
    "res_island = list(db[\"penguin_data\"].find({}, {\"_id\":0, \"Island\": 1}).distinct(\"Island\"))\n",
    "res_island"
   ]
  },
  {
   "cell_type": "code",
   "execution_count": 12,
   "id": "8616fe95",
   "metadata": {},
   "outputs": [],
   "source": [
    "dic_geo ={\"Biscoe\" : {\"latitud\": -65.4333316 , \"longitud\": -65.499998}, \n",
    "          \"Dream\": {\"latitud\": -64.7333304  , \"longitud\": -64.2333324 }, \n",
    "         \"Torgersen\": {\"latitud\": -64.7666636  , \"longitud\": -64.083333 }}"
   ]
  },
  {
   "cell_type": "code",
   "execution_count": 16,
   "id": "592fb1b9",
   "metadata": {},
   "outputs": [
    {
     "data": {
      "text/plain": [
       "{'Biscoe': {'latitud': -65.4333316, 'longitud': -65.499998},\n",
       " 'Dream': {'latitud': -64.7333304, 'longitud': -64.2333324},\n",
       " 'Torgersen': {'latitud': -64.7666636, 'longitud': -64.083333}}"
      ]
     },
     "execution_count": 16,
     "metadata": {},
     "output_type": "execute_result"
    }
   ],
   "source": [
    "dic_geo"
   ]
  },
  {
   "cell_type": "code",
   "execution_count": 17,
   "id": "d1c15de8",
   "metadata": {},
   "outputs": [],
   "source": [
    "for penguin in res:\n",
    "    q ={\n",
    "        \"type\":\"Point\",\n",
    "        \"coordinates\": [dic_geo[penguin[\"Island\"]][\"longitud\"], dic_geo[penguin[\"Island\"]][\"latitud\"]]\n",
    "    }\n",
    "    \n",
    "    db[\"penguin_data\"].update_one({\"_id\": penguin[\"_id\"]}, {\"$set\": {\"location\": q}})"
   ]
  },
  {
   "cell_type": "code",
   "execution_count": null,
   "id": "fd40ae37",
   "metadata": {},
   "outputs": [],
   "source": []
  }
 ],
 "metadata": {
  "kernelspec": {
   "display_name": "Python 3 (ipykernel)",
   "language": "python",
   "name": "python3"
  },
  "language_info": {
   "codemirror_mode": {
    "name": "ipython",
    "version": 3
   },
   "file_extension": ".py",
   "mimetype": "text/x-python",
   "name": "python",
   "nbconvert_exporter": "python",
   "pygments_lexer": "ipython3",
   "version": "3.9.13"
  }
 },
 "nbformat": 4,
 "nbformat_minor": 5
}
